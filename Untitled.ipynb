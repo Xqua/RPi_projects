{
 "cells": [
  {
   "cell_type": "code",
   "execution_count": 22,
   "metadata": {
    "collapsed": true
   },
   "outputs": [],
   "source": [
    "import numpy as np\n",
    "import scipy.stats\n",
    "import pandas as pd\n",
    "import seaborn as sns\n",
    "import matplotlib.pyplot as plt\n",
    "\n",
    "%matplotlib inline"
   ]
  },
  {
   "cell_type": "code",
   "execution_count": 23,
   "metadata": {},
   "outputs": [],
   "source": [
    "def power(group1, group2):\n",
    "    \"\"\"Feed the list of data point for group 1 and group2 and enjoy the show.\"\"\"\n",
    "\n",
    "    # start at 20 participants\n",
    "    n_per_group = 1\n",
    "\n",
    "    # effect size = 0.8\n",
    "    group_means = [np.mean(group1), np.mean(group2)]\n",
    "    group_sigmas = [np.std(group1), np.std(group2)]\n",
    "\n",
    "    n_groups = len(group_means)\n",
    "\n",
    "    # number of simulations\n",
    "    n_sims = 10000\n",
    "\n",
    "    # power level that we would like to reach\n",
    "    desired_power = 1.0\n",
    "\n",
    "    # initialise the power for the current sample size to a small value\n",
    "    current_power = 0.0\n",
    "\n",
    "    allpower = []\n",
    "    # keep iterating until desired power is obtained\n",
    "    while current_power < desired_power:\n",
    "\n",
    "        data = np.empty([n_sims, n_per_group, n_groups])\n",
    "        data.fill(np.nan)\n",
    "\n",
    "        for i_group in range(n_groups):\n",
    "\n",
    "            data[:, :, i_group] = np.random.normal(\n",
    "                loc=group_means[i_group],\n",
    "                scale=group_sigmas[i_group],\n",
    "                size=[n_sims, n_per_group]\n",
    "            )\n",
    "\n",
    "        result = scipy.stats.ttest_ind(\n",
    "            data[:, :, 0],\n",
    "            data[:, :, 1],\n",
    "            axis=1\n",
    "        )\n",
    "\n",
    "        sim_p = result[1]\n",
    "\n",
    "        # number of simulations where the null was rejected\n",
    "        n_rej = np.sum(sim_p < 0.05)\n",
    "\n",
    "        prop_rej = n_rej / float(n_sims)\n",
    "\n",
    "        current_power = prop_rej\n",
    "\n",
    "        print(\"With \" + str(n_per_group) + \" samples per group, power = \" + str(current_power))\n",
    "        allpower.append(current_power)\n",
    "\n",
    "        # increase the number of samples by one for the next iteration of the loop\n",
    "        n_per_group += 1\n",
    "    return(allpower)"
   ]
  },
  {
   "cell_type": "code",
   "execution_count": 24,
   "metadata": {},
   "outputs": [
    {
     "name": "stdout",
     "output_type": "stream",
     "text": [
      "With 1 samples per group, power = 0.0\n",
      "With 2 samples per group, power = 0.8347\n",
      "With 3 samples per group, power = 0.9972\n",
      "With 4 samples per group, power = 1.0\n"
     ]
    },
    {
     "name": "stderr",
     "output_type": "stream",
     "text": [
      "/Users/student/anaconda3/lib/python3.6/site-packages/numpy/core/fromnumeric.py:3146: RuntimeWarning: Degrees of freedom <= 0 for slice\n",
      "  **kwargs)\n",
      "/Users/student/anaconda3/lib/python3.6/site-packages/numpy/core/_methods.py:125: RuntimeWarning: invalid value encountered in true_divide\n",
      "  ret, rcount, out=ret, casting='unsafe', subok=False)\n",
      "/Users/student/anaconda3/lib/python3.6/site-packages/scipy/stats/_distn_infrastructure.py:879: RuntimeWarning: invalid value encountered in greater\n",
      "  return (self.a < x) & (x < self.b)\n",
      "/Users/student/anaconda3/lib/python3.6/site-packages/scipy/stats/_distn_infrastructure.py:879: RuntimeWarning: invalid value encountered in less\n",
      "  return (self.a < x) & (x < self.b)\n",
      "/Users/student/anaconda3/lib/python3.6/site-packages/scipy/stats/_distn_infrastructure.py:1818: RuntimeWarning: invalid value encountered in less_equal\n",
      "  cond2 = cond0 & (x <= self.a)\n",
      "/Users/student/anaconda3/lib/python3.6/site-packages/ipykernel_launcher.py:46: RuntimeWarning: invalid value encountered in less\n"
     ]
    }
   ],
   "source": [
    "group1 = [86,80,81,84,65]\n",
    "group2 = [130,159,157,176]\n",
    "\n",
    "y = power(group1, group2)"
   ]
  },
  {
   "cell_type": "code",
   "execution_count": 27,
   "metadata": {},
   "outputs": [
    {
     "data": {
      "text/plain": [
       "([<matplotlib.axis.XTick at 0x1a1c17e470>,\n",
       "  <matplotlib.axis.XTick at 0x1a1c1ddb38>,\n",
       "  <matplotlib.axis.XTick at 0x1a1c1673c8>,\n",
       "  <matplotlib.axis.XTick at 0x1a1c168f28>],\n",
       " <a list of 4 Text xticklabel objects>)"
      ]
     },
     "execution_count": 27,
     "metadata": {},
     "output_type": "execute_result"
    },
    {
     "data": {
      "image/png": "[encoded data removed]",
      "text/plain": [
       "<matplotlib.figure.Figure at 0x1a1c2f7d68>"
      ]
     },
     "metadata": {},
     "output_type": "display_data"
    }
   ],
   "source": [
    "plt.plot(range(4), y)\n",
    "plt.title('Power Analysis as a function of sample size for \\nDG integration (after 25 days)')\n",
    "plt.xlabel('Sample Size')\n",
    "plt.ylabel('Power')\n",
    "plt.xticks(range(4))"
   ]
  }
 ],
 "metadata": {
  "kernelspec": {
   "display_name": "Python 3",
   "language": "python",
   "name": "python3"
  },
  "language_info": {
   "codemirror_mode": {
    "name": "ipython",
    "version": 3
   },
   "file_extension": ".py",
   "mimetype": "text/x-python",
   "name": "python",
   "nbconvert_exporter": "python",
   "pygments_lexer": "ipython3",
   "version": "3.6.3"
  }
 },
 "nbformat": 4,
 "nbformat_minor": 2
}
